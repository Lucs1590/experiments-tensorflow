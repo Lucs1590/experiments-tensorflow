{
  "nbformat": 4,
  "nbformat_minor": 0,
  "metadata": {
    "colab": {
      "provenance": [],
      "collapsed_sections": [
        "5mCSqk_wBEVc"
      ],
      "authorship_tag": "ABX9TyPnxTGnIwoKjO//4cjqkQkZ",
      "include_colab_link": true
    },
    "kernelspec": {
      "name": "python3",
      "display_name": "Python 3"
    },
    "language_info": {
      "name": "python"
    },
    "gpuClass": "standard",
    "accelerator": "GPU"
  },
  "cells": [
    {
      "cell_type": "markdown",
      "metadata": {
        "id": "view-in-github",
        "colab_type": "text"
      },
      "source": [
        "<a href=\"https://colab.research.google.com/github/Uemerson/experiments-tensorflow/blob/main/cnn_classification.ipynb\" target=\"_parent\"><img src=\"https://colab.research.google.com/assets/colab-badge.svg\" alt=\"Open In Colab\"/></a>"
      ]
    },
    {
      "cell_type": "markdown",
      "source": [
        "# MNIST dataset - CNN with MaxPooling"
      ],
      "metadata": {
        "id": "5mCSqk_wBEVc"
      }
    },
    {
      "cell_type": "code",
      "source": [
        "from keras.datasets import mnist\n",
        "from keras.models import Sequential\n",
        "from keras.layers import Dense, Dropout, Flatten, Conv2D, MaxPooling2D\n",
        "from keras.utils import to_categorical\n",
        "\n",
        "# Load the MNIST dataset\n",
        "(x_train, y_train), (x_test, y_test) = mnist.load_data()\n",
        "\n",
        "# Reshape the data to have a single channel\n",
        "x_train = x_train.reshape(x_train.shape[0], 28, 28, 1)\n",
        "x_test = x_test.reshape(x_test.shape[0], 28, 28, 1)\n",
        "\n",
        "# Normalize data\n",
        "x_train = x_train.astype('float32') / 255\n",
        "x_test = x_test.astype('float32') / 255\n",
        "\n",
        "# One-hot encode the labels\n",
        "y_train = to_categorical(y_train, 10)\n",
        "y_test = to_categorical(y_test, 10)\n",
        "\n",
        "# Create the model\n",
        "model = Sequential()\n",
        "model.add(Conv2D(32, (3, 3), activation='relu', padding='same', input_shape=(28, 28, 1)))\n",
        "model.add(Conv2D(32, (3, 3), activation='relu', padding='same'))\n",
        "model.add(MaxPooling2D(pool_size=(2, 2)))\n",
        "model.add(Dropout(0.25))\n",
        "model.add(Flatten())\n",
        "model.add(Dense(512, activation='relu'))\n",
        "model.add(Dropout(0.5))\n",
        "model.add(Dense(10, activation='softmax'))\n",
        "\n",
        "# Compile the model\n",
        "model.compile(optimizer='adam', loss='categorical_crossentropy', metrics=['accuracy'])\n",
        "\n",
        "# Train the model on first 50% of the training set\n",
        "x_train = x_train[:int(0.5 * len(x_train))]\n",
        "y_train = y_train[:int(0.5 * len(y_train))]\n",
        "\n",
        "# Train the model\n",
        "r = model.fit(x_train, y_train, batch_size=32, epochs=10, validation_data=(x_test, y_test))\n"
      ],
      "metadata": {
        "colab": {
          "base_uri": "https://localhost:8080/"
        },
        "id": "9WQ0GEKyBD0a",
        "outputId": "89ebc78b-0ac8-4611-998b-33f7fb63e4ae"
      },
      "execution_count": null,
      "outputs": [
        {
          "output_type": "stream",
          "name": "stdout",
          "text": [
            "Downloading data from https://storage.googleapis.com/tensorflow/tf-keras-datasets/mnist.npz\n",
            "11490434/11490434 [==============================] - 0s 0us/step\n",
            "Epoch 1/10\n",
            "938/938 [==============================] - 26s 10ms/step - loss: 0.2111 - accuracy: 0.9347 - val_loss: 0.0607 - val_accuracy: 0.9822\n",
            "Epoch 2/10\n",
            "938/938 [==============================] - 5s 5ms/step - loss: 0.0712 - accuracy: 0.9777 - val_loss: 0.0461 - val_accuracy: 0.9849\n",
            "Epoch 3/10\n",
            "938/938 [==============================] - 6s 6ms/step - loss: 0.0513 - accuracy: 0.9837 - val_loss: 0.0431 - val_accuracy: 0.9858\n",
            "Epoch 4/10\n",
            "938/938 [==============================] - 5s 5ms/step - loss: 0.0407 - accuracy: 0.9860 - val_loss: 0.0314 - val_accuracy: 0.9892\n",
            "Epoch 5/10\n",
            "938/938 [==============================] - 6s 6ms/step - loss: 0.0320 - accuracy: 0.9892 - val_loss: 0.0338 - val_accuracy: 0.9901\n",
            "Epoch 6/10\n",
            "938/938 [==============================] - 6s 6ms/step - loss: 0.0267 - accuracy: 0.9917 - val_loss: 0.0367 - val_accuracy: 0.9881\n",
            "Epoch 7/10\n",
            "938/938 [==============================] - 6s 6ms/step - loss: 0.0229 - accuracy: 0.9923 - val_loss: 0.0423 - val_accuracy: 0.9873\n",
            "Epoch 8/10\n",
            "938/938 [==============================] - 5s 6ms/step - loss: 0.0218 - accuracy: 0.9932 - val_loss: 0.0377 - val_accuracy: 0.9894\n",
            "Epoch 9/10\n",
            "938/938 [==============================] - 5s 5ms/step - loss: 0.0189 - accuracy: 0.9933 - val_loss: 0.0414 - val_accuracy: 0.9878\n",
            "Epoch 10/10\n",
            "938/938 [==============================] - 6s 6ms/step - loss: 0.0177 - accuracy: 0.9941 - val_loss: 0.0347 - val_accuracy: 0.9908\n"
          ]
        }
      ]
    },
    {
      "cell_type": "code",
      "source": [
        "import matplotlib.pyplot as plt\n",
        "\n",
        "# Plot accuracy per iteration\n",
        "plt.plot(r.history['accuracy'], label='acc', color='red')\n",
        "plt.plot(r.history['val_accuracy'], label='val_acc', color='green')\n",
        "plt.legend()"
      ],
      "metadata": {
        "colab": {
          "base_uri": "https://localhost:8080/"
        },
        "id": "UxtNLrwZCBad",
        "outputId": "7b253e4f-c6d7-4492-c6df-7db98fa828e2"
      },
      "execution_count": null,
      "outputs": [
        {
          "output_type": "execute_result",
          "data": {
            "text/plain": [
              "<matplotlib.legend.Legend at 0x7feaa98c5f40>"
            ]
          },
          "metadata": {},
          "execution_count": 2
        },
        {
          "output_type": "display_data",
          "data": {
            "text/plain": [
              "<Figure size 432x288 with 1 Axes>"
            ],
            "image/png": "[encoded data removed]"
          },
          "metadata": {
            "needs_background": "light"
          }
        }
      ]
    },
    {
      "cell_type": "code",
      "source": [
        "#  Get the accuracy of the last epoch\n",
        "r.history['accuracy'][-1]"
      ],
      "metadata": {
        "colab": {
          "base_uri": "https://localhost:8080/"
        },
        "id": "buZuPeNhMUod",
        "outputId": "48c76282-5e99-4a9e-cd78-ca9f9e330320"
      },
      "execution_count": null,
      "outputs": [
        {
          "output_type": "execute_result",
          "data": {
            "text/plain": [
              "0.9940666556358337"
            ]
          },
          "metadata": {},
          "execution_count": 3
        }
      ]
    },
    {
      "cell_type": "code",
      "source": [
        "import numpy as np\n",
        "\n",
        "# Make predictions on the test set\n",
        "y_pred = model.predict(x_test)\n",
        "\n",
        "# Get the class labels with highest probability\n",
        "y_pred_labels = np.argmax(y_pred, axis=1)"
      ],
      "metadata": {
        "colab": {
          "base_uri": "https://localhost:8080/"
        },
        "id": "1_ftHC0yBmYF",
        "outputId": "8fb8beb5-db99-4d92-bc6d-c1eaaa97cee2"
      },
      "execution_count": null,
      "outputs": [
        {
          "output_type": "stream",
          "name": "stdout",
          "text": [
            "313/313 [==============================] - 1s 2ms/step\n"
          ]
        }
      ]
    },
    {
      "cell_type": "code",
      "source": [
        "for i in range(0,6):\n",
        "  img = x_test[i]\n",
        "  img = np.expand_dims(img, axis=0)\n",
        "\n",
        "  # Make prediction on individual image\n",
        "  prediction = model.predict(img)\n",
        "\n",
        "  # Get the class label with highest probability\n",
        "  prediction_label = np.argmax(prediction, axis=1)\n",
        "  \n",
        "  # Get the original label of the image\n",
        "  original_label = y_test[i]\n",
        "\n",
        "  # Plot the image and the prediction\n",
        "  plt.imshow(img.reshape(28, 28), cmap='gray')\n",
        "  plt.title('Original {}, Prediction: {}'.format(np.where(original_label == 1)[0][0], prediction_label[0]))\n",
        "  plt.show()"
      ],
      "metadata": {
        "colab": {
          "base_uri": "https://localhost:8080/"
        },
        "id": "NGMArSNONeS2",
        "outputId": "78b6ad1c-962c-4ded-c31c-51e2f03850b5"
      },
      "execution_count": null,
      "outputs": [
        {
          "output_type": "stream",
          "name": "stdout",
          "text": [
            "1/1 [==============================] - 0s 60ms/step\n"
          ]
        },
        {
          "output_type": "display_data",
          "data": {
            "text/plain": [
              "<Figure size 432x288 with 1 Axes>"
            ],
            "image/png": "[encoded data removed]"
          },
          "metadata": {
            "needs_background": "light"
          }
        },
        {
          "output_type": "stream",
          "name": "stdout",
          "text": [
            "1/1 [==============================] - 0s 19ms/step\n"
          ]
        },
        {
          "output_type": "display_data",
          "data": {
            "text/plain": [
              "<Figure size 432x288 with 1 Axes>"
            ],
            "image/png": "[encoded data removed]"
          },
          "metadata": {
            "needs_background": "light"
          }
        },
        {
          "output_type": "stream",
          "name": "stdout",
          "text": [
            "1/1 [==============================] - 0s 20ms/step\n"
          ]
        },
        {
          "output_type": "display_data",
          "data": {
            "text/plain": [
              "<Figure size 432x288 with 1 Axes>"
            ],
            "image/png": "[encoded data removed]"
          },
          "metadata": {
            "needs_background": "light"
          }
        },
        {
          "output_type": "stream",
          "name": "stdout",
          "text": [
            "1/1 [==============================] - 0s 21ms/step\n"
          ]
        },
        {
          "output_type": "display_data",
          "data": {
            "text/plain": [
              "<Figure size 432x288 with 1 Axes>"
            ],
            "image/png": "[encoded data removed]"
          },
          "metadata": {
            "needs_background": "light"
          }
        },
        {
          "output_type": "stream",
          "name": "stdout",
          "text": [
            "1/1 [==============================] - 0s 22ms/step\n"
          ]
        },
        {
          "output_type": "display_data",
          "data": {
            "text/plain": [
              "<Figure size 432x288 with 1 Axes>"
            ],
            "image/png": "[encoded data removed]"
          },
          "metadata": {
            "needs_background": "light"
          }
        },
        {
          "output_type": "stream",
          "name": "stdout",
          "text": [
            "1/1 [==============================] - 0s 19ms/step\n"
          ]
        },
        {
          "output_type": "display_data",
          "data": {
            "text/plain": [
              "<Figure size 432x288 with 1 Axes>"
            ],
            "image/png": "[encoded data removed]"
          },
          "metadata": {
            "needs_background": "light"
          }
        }
      ]
    },
    {
      "cell_type": "markdown",
      "source": [
        "# MNIST dataset - CNN with BPCA Layer"
      ],
      "metadata": {
        "id": "6CpwSC07nq6X"
      }
    },
    {
      "cell_type": "code",
      "source": [
        "from keras.datasets import mnist\n",
        "from keras.models import Sequential\n",
        "from keras.layers import Dense, Dropout, Flatten, Conv2D, MaxPooling2D\n",
        "from keras.utils import to_categorical\n",
        "\n",
        "import tensorflow as tf\n",
        "import numpy as np\n",
        "import matplotlib.pyplot as plt\n",
        "\n",
        "class BPCALayer(tf.keras.layers.Layer):\n",
        "    def __init__(self, pool_size=2, stride=2, n_components=1):\n",
        "        super(BPCALayer, self).__init__()\n",
        "        self.pool_size = pool_size\n",
        "        self.stride = stride\n",
        "        self.n_components = n_components\n",
        "\n",
        "    def call(self, inputs):\n",
        "      def bpca_pooling(feature_map):\n",
        "        # Compute the region of interest        \n",
        "        feature_map_height = int(feature_map.shape[0])\n",
        "        feature_map_width  = int(feature_map.shape[1])\n",
        "        feature_map_channels = int(feature_map.shape[2])\n",
        "\n",
        "        results = tf.TensorArray(tf.float32, size=feature_map_channels)\n",
        "        for channel in range(0, feature_map_channels):\n",
        "          n = feature_map_height\n",
        "          m = feature_map_width\n",
        "\n",
        "          input = tf.reshape(feature_map[:, :, channel], [int(n), int(m)])\n",
        "\n",
        "          # make blocks\n",
        "          output_matrix = []\n",
        "          for i in range(0, n, self.stride):\n",
        "            for j in range(0, m, self.stride):\n",
        "                # fix out of bounds\n",
        "                if i + self.pool_size > n or j + self.pool_size > m:\n",
        "                    continue\n",
        "                output_matrix.append(input[i:i + self.pool_size, j:j + self.pool_size])\n",
        "\n",
        "          output_matrix = tf.convert_to_tensor(output_matrix, tf.float32)\n",
        "          output_matrix = tf.reshape(output_matrix, (output_matrix.shape[0], output_matrix.shape[1]*output_matrix.shape[2]))\n",
        "\n",
        "          n_components = self.n_components\n",
        "          data = tf.cast(output_matrix, tf.float32)\n",
        "\n",
        "          # Normalize the data by subtracting the mean and dividing by the standard deviation\n",
        "          mean = tf.reduce_mean(data, axis=0)\n",
        "          std = tf.math.reduce_std(data, axis=0)\n",
        "          data = (data - mean) / std\n",
        "\n",
        "          # Perform the Singular Value Decomposition (SVD) on the data\n",
        "          s, u, v = tf.linalg.svd(data)\n",
        "\n",
        "          # Extract the first n principal components from the matrix v\n",
        "          pca_components = v[:, :n_components]\n",
        "\n",
        "          # Perform the PCA transformation on the data\n",
        "          transformed_data = tf.matmul(data, pca_components)\n",
        "\n",
        "          results.write(channel, tf.reshape(transformed_data, [n // self.pool_size, m // self.pool_size]))\n",
        "\n",
        "        result = results.stack()\n",
        "        return tf.reshape(result, [n // self.pool_size, m // self.pool_size, feature_map_channels])\n",
        "\n",
        "      pooled = tf.map_fn(bpca_pooling, inputs, dtype=tf.float32)\n",
        "      return pooled\n",
        "\n",
        "# Load the MNIST dataset\n",
        "(x_train, y_train), (x_test, y_test) = mnist.load_data()\n",
        "\n",
        "# Reshape the data to have a single channel\n",
        "x_train = x_train.reshape(x_train.shape[0], 28, 28, 1)\n",
        "x_test = x_test.reshape(x_test.shape[0], 28, 28, 1)\n",
        "\n",
        "# Normalize data\n",
        "x_train = x_train.astype('float32') / 255\n",
        "x_test = x_test.astype('float32') / 255\n",
        "\n",
        "# One-hot encode the labels\n",
        "y_train = to_categorical(y_train, 10)\n",
        "y_test = to_categorical(y_test, 10)\n",
        "\n",
        "# Create the model\n",
        "model = Sequential()\n",
        "# model.add(tf.keras.layers.InputLayer((28, 28, 1), batch_size=32))\n",
        "model.add(Conv2D(32, (3, 3), activation='relu', padding='same', input_shape=(28, 28, 1)))\n",
        "model.add(Conv2D(32, (3, 3), activation='relu', padding='same'))\n",
        "model.add(BPCALayer()) # replace MaxPooling2D with BPCALayer\n",
        "model.add(Dropout(0.25))\n",
        "model.add(Flatten())\n",
        "model.add(Dense(512, activation='relu'))\n",
        "model.add(Dropout(0.5))\n",
        "model.add(Dense(10, activation='softmax'))\n",
        "\n",
        "# Compile the model\n",
        "model.compile(optimizer='adam', loss='categorical_crossentropy', metrics=['accuracy'])\n",
        "\n",
        "# Train the model on first 50% of the training set\n",
        "x_train = x_train[:int(0.5 * len(x_train))]\n",
        "y_train = y_train[:int(0.5 * len(y_train))]\n",
        "\n",
        "# Train the model\n",
        "r = model.fit(x_train, y_train, batch_size=32, epochs=10, validation_data=(x_test, y_test))\n",
        "\n",
        "# Plot accuracy per iteration\n",
        "plt.plot(r.history['accuracy'], label='acc', color='red')\n",
        "plt.plot(r.history['val_accuracy'], label='val_acc', color='green')\n",
        "plt.legend()\n",
        "plt.show()\n",
        "\n",
        "#  Get the accuracy of the last epoch\n",
        "print(f\"accuracy: {r.history['accuracy'][-1]}\")\n",
        "\n",
        "for i in range(0,6):\n",
        "  img = x_test[i]\n",
        "  img = np.expand_dims(img, axis=0)\n",
        "\n",
        "  # Make prediction on individual image\n",
        "  prediction = model.predict(img)\n",
        "\n",
        "  # Get the class label with highest probability\n",
        "  prediction_label = np.argmax(prediction, axis=1)\n",
        "  \n",
        "  # Get the original label of the image\n",
        "  original_label = y_test[i]\n",
        "\n",
        "  # Plot the image and the prediction\n",
        "  plt.imshow(img.reshape(28, 28), cmap='gray')\n",
        "  plt.title('Original {}, Prediction: {}'.format(np.where(original_label == 1)[0][0], prediction_label[0]))\n",
        "  plt.show()"
      ],
      "metadata": {
        "colab": {
          "base_uri": "https://localhost:8080/",
          "height": 1000
        },
        "id": "VrOdjFr5ns3K",
        "outputId": "ffadc6de-2d90-48ff-b350-f66ddfdfe52f"
      },
      "execution_count": 1,
      "outputs": [
        {
          "output_type": "stream",
          "name": "stdout",
          "text": [
            "Downloading data from https://storage.googleapis.com/tensorflow/tf-keras-datasets/mnist.npz\n",
            "11490434/11490434 [==============================] - 1s 0us/step\n"
          ]
        },
        {
          "output_type": "stream",
          "name": "stderr",
          "text": [
            "WARNING:tensorflow:From /usr/local/lib/python3.9/dist-packages/tensorflow/python/autograph/pyct/static_analysis/liveness.py:83: Analyzer.lamba_check (from tensorflow.python.autograph.pyct.static_analysis.liveness) is deprecated and will be removed after 2023-09-23.\n",
            "Instructions for updating:\n",
            "Lambda fuctions will be no more assumed to be used in the statement where they are used, or at least in the same block. https://github.com/tensorflow/tensorflow/issues/56089\n",
            "WARNING:tensorflow:From /usr/local/lib/python3.9/dist-packages/tensorflow/python/util/deprecation.py:629: calling map_fn_v2 (from tensorflow.python.ops.map_fn) with dtype is deprecated and will be removed in a future version.\n",
            "Instructions for updating:\n",
            "Use fn_output_signature instead\n"
          ]
        },
        {
          "output_type": "stream",
          "name": "stdout",
          "text": [
            "Epoch 1/10\n",
            "938/938 [==============================] - 87s 39ms/step - loss: 2.3016 - accuracy: 0.1122 - val_loss: 2.3011 - val_accuracy: 0.1135\n",
            "Epoch 2/10\n",
            "938/938 [==============================] - 18s 19ms/step - loss: 2.3011 - accuracy: 0.1141 - val_loss: 2.3011 - val_accuracy: 0.1135\n",
            "Epoch 3/10\n",
            "938/938 [==============================] - 15s 16ms/step - loss: 2.3011 - accuracy: 0.1141 - val_loss: 2.3011 - val_accuracy: 0.1135\n",
            "Epoch 4/10\n",
            "938/938 [==============================] - 15s 17ms/step - loss: 2.3011 - accuracy: 0.1141 - val_loss: 2.3011 - val_accuracy: 0.1135\n",
            "Epoch 5/10\n",
            "938/938 [==============================] - 16s 17ms/step - loss: 2.3011 - accuracy: 0.1141 - val_loss: 2.3011 - val_accuracy: 0.1135\n",
            "Epoch 6/10\n",
            "938/938 [==============================] - 17s 18ms/step - loss: 2.3011 - accuracy: 0.1141 - val_loss: 2.3010 - val_accuracy: 0.1135\n",
            "Epoch 7/10\n",
            "938/938 [==============================] - 18s 19ms/step - loss: 2.3011 - accuracy: 0.1141 - val_loss: 2.3011 - val_accuracy: 0.1135\n",
            "Epoch 8/10\n",
            "938/938 [==============================] - 16s 17ms/step - loss: 2.3011 - accuracy: 0.1141 - val_loss: 2.3011 - val_accuracy: 0.1135\n",
            "Epoch 9/10\n",
            "938/938 [==============================] - 16s 17ms/step - loss: 2.3011 - accuracy: 0.1141 - val_loss: 2.3011 - val_accuracy: 0.1135\n",
            "Epoch 10/10\n",
            "938/938 [==============================] - 16s 17ms/step - loss: 2.3011 - accuracy: 0.1141 - val_loss: 2.3010 - val_accuracy: 0.1135\n"
          ]
        },
        {
          "output_type": "display_data",
          "data": {
            "text/plain": [
              "<Figure size 432x288 with 1 Axes>"
            ],
            "image/png": "[encoded data removed]"
          },
          "metadata": {
            "needs_background": "light"
          }
        },
        {
          "output_type": "stream",
          "name": "stdout",
          "text": [
            "accuracy: 0.11410000175237656\n",
            "1/1 [==============================] - 17s 17s/step\n"
          ]
        },
        {
          "output_type": "display_data",
          "data": {
            "text/plain": [
              "<Figure size 432x288 with 1 Axes>"
            ],
            "image/png": "[encoded data removed]"
          },
          "metadata": {
            "needs_background": "light"
          }
        },
        {
          "output_type": "stream",
          "name": "stdout",
          "text": [
            "1/1 [==============================] - 0s 19ms/step\n"
          ]
        },
        {
          "output_type": "display_data",
          "data": {
            "text/plain": [
              "<Figure size 432x288 with 1 Axes>"
            ],
            "image/png": "[encoded data removed]"
          },
          "metadata": {
            "needs_background": "light"
          }
        },
        {
          "output_type": "stream",
          "name": "stdout",
          "text": [
            "1/1 [==============================] - 0s 20ms/step\n"
          ]
        },
        {
          "output_type": "display_data",
          "data": {
            "text/plain": [
              "<Figure size 432x288 with 1 Axes>"
            ],
            "image/png": "[encoded data removed]"
          },
          "metadata": {
            "needs_background": "light"
          }
        },
        {
          "output_type": "stream",
          "name": "stdout",
          "text": [
            "1/1 [==============================] - 0s 31ms/step\n"
          ]
        },
        {
          "output_type": "display_data",
          "data": {
            "text/plain": [
              "<Figure size 432x288 with 1 Axes>"
            ],
            "image/png": "[encoded data removed]"
          },
          "metadata": {
            "needs_background": "light"
          }
        },
        {
          "output_type": "stream",
          "name": "stdout",
          "text": [
            "1/1 [==============================] - 0s 32ms/step\n"
          ]
        },
        {
          "output_type": "display_data",
          "data": {
            "text/plain": [
              "<Figure size 432x288 with 1 Axes>"
            ],
            "image/png": "[encoded data removed]"
          },
          "metadata": {
            "needs_background": "light"
          }
        },
        {
          "output_type": "stream",
          "name": "stdout",
          "text": [
            "1/1 [==============================] - 0s 34ms/step\n"
          ]
        },
        {
          "output_type": "display_data",
          "data": {
            "text/plain": [
              "<Figure size 432x288 with 1 Axes>"
            ],
            "image/png": "[encoded data removed]"
          },
          "metadata": {
            "needs_background": "light"
          }
        }
      ]
    }
  ]
}